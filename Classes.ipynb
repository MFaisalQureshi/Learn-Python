{
 "cells": [
  {
   "cell_type": "code",
   "execution_count": 1,
   "metadata": {},
   "outputs": [
    {
     "name": "stdout",
     "output_type": "stream",
     "text": [
      "Ali\n",
      "23\n",
      "Matric\n"
     ]
    }
   ],
   "source": [
    "#Class\n",
    "class Person:\n",
    "   name= 'Ali'\n",
    "   age=23\n",
    "   education='Matric' \n",
    "\n",
    "p1 = Person()\n",
    "print(p1.name)\n",
    "print(p1.age)\n",
    "print(p1.education)\n"
   ]
  },
  {
   "cell_type": "code",
   "execution_count": 3,
   "metadata": {},
   "outputs": [
    {
     "name": "stdout",
     "output_type": "stream",
     "text": [
      "Ali\n",
      "20\n"
     ]
    }
   ],
   "source": [
    "class Person:\n",
    "  def __init__(self):\n",
    "    self.name = 'Ali'\n",
    "    self.age = 20\n",
    "\n",
    "p1 = Person()\n",
    "\n",
    "print(p1.name)\n",
    "print(p1.age)\n"
   ]
  },
  {
   "cell_type": "code",
   "execution_count": 7,
   "metadata": {},
   "outputs": [
    {
     "name": "stdout",
     "output_type": "stream",
     "text": [
      "Student Name is: moiz\n",
      "Student age is: 16\n"
     ]
    }
   ],
   "source": [
    "class Student:\n",
    "    def __init__(self,name,age):\n",
    "        self.name=name\n",
    "        self.age=age        \n",
    "s1=Student(\"moiz\",16)\n",
    "print('Student Name is:',s1.name)\n",
    "print('Student age is:',s1.age)\n",
    "    \n",
    "    \n",
    "    \n",
    "    \n",
    "    \n",
    "    "
   ]
  },
  {
   "cell_type": "code",
   "execution_count": 16,
   "metadata": {},
   "outputs": [
    {
     "name": "stdout",
     "output_type": "stream",
     "text": [
      "Ali Develop Websites\n",
      "Ali How are you?\n",
      "Zain analysis a data sets\n",
      "Zain How are you?\n"
     ]
    }
   ],
   "source": [
    "class Employee:\n",
    "    def __init__(self,n,d):\n",
    "        self.name=n\n",
    "        self.designation=d\n",
    "    def work(self):\n",
    "        if self.designation=='WEB Developer':\n",
    "            print(self.name,'Develop Websites')\n",
    "        elif self.designation=='Data Analyst':\n",
    "            print(self.name,'analysis a data sets')\n",
    "    def speaks(self):\n",
    "        print(self.name,'How are you?')\n",
    "e1=Employee(\"Ali\",\"WEB Developer\")\n",
    "e1.work()\n",
    "e1.speaks()\n",
    "e2=Employee(\"Zain\",\"Data Analyst\")\n",
    "e2.work()\n",
    "e2.speaks()"
   ]
  },
  {
   "cell_type": "code",
   "execution_count": 24,
   "metadata": {},
   "outputs": [
    {
     "name": "stdout",
     "output_type": "stream",
     "text": [
      "Hello my name is Zain\n",
      "I live in  Karachi\n"
     ]
    }
   ],
   "source": [
    "class People:\n",
    "    def __init__(self,n,a):\n",
    "        self.name=n\n",
    "        self.address=a\n",
    "    def func(self):\n",
    "        print('Hello my name is',self.name)\n",
    "        print('I live in ',self.address)\n",
    "P1=People('Zain','Karachi')\n",
    "P1.func()\n",
    "\n"
   ]
  },
  {
   "cell_type": "code",
   "execution_count": 28,
   "metadata": {},
   "outputs": [
    {
     "name": "stdout",
     "output_type": "stream",
     "text": [
      "My First name is Waseem\n",
      "My Last name is Qureshi\n",
      "My First name is Faisal\n",
      "My Last name is Qureshi\n"
     ]
    }
   ],
   "source": [
    "class Parent:\n",
    "    def __init__(self,fn,ln):\n",
    "        self.fname=fn\n",
    "        self.lname=ln\n",
    "    def myfunc(self):\n",
    "        print('My First name is',self.fname)\n",
    "        print('My Last name is',self.lname)\n",
    "p=Parent('Waseem','Qureshi')\n",
    "p.myfunc()\n",
    "class Child(Parent):\n",
    "    pass\n",
    "c=Child('Faisal','Qureshi')\n",
    "c.myfunc()"
   ]
  },
  {
   "cell_type": "code",
   "execution_count": 43,
   "metadata": {},
   "outputs": [
    {
     "name": "stdout",
     "output_type": "stream",
     "text": [
      "My First name is Waseem\n",
      "My Last name is Qureshi\n",
      "My First name is Faisal\n",
      "My Last name is Qureshi\n"
     ]
    }
   ],
   "source": [
    "class Parent:\n",
    "    def __init__(self,fn,ln):\n",
    "        self.fname=fn\n",
    "        self.lname=ln\n",
    "    def printname(self):\n",
    "        print('My First name is',self.fname)\n",
    "        print('My Last name is',self.lname)\n",
    "p=Parent('Waseem','Qureshi')\n",
    "p.printname()\n",
    "\n",
    "class Child(Parent):\n",
    "    def __init__(self,fn,ln):\n",
    "        Parent.__init__(self,fn,ln)   \n",
    "c=Child('Faisal','Qureshi')\n",
    "c.printname()"
   ]
  },
  {
   "cell_type": "code",
   "execution_count": 44,
   "metadata": {},
   "outputs": [
    {
     "name": "stdout",
     "output_type": "stream",
     "text": [
      "My First name is Waseem\n",
      "My Last name is Qureshi\n",
      "My First name is Faisal\n",
      "My Last name is Qureshi\n"
     ]
    }
   ],
   "source": [
    "class Parent:\n",
    "    def __init__(self,fn,ln):\n",
    "        self.fname=fn\n",
    "        self.lname=ln\n",
    "    def printname(self):\n",
    "        print('My First name is',self.fname)\n",
    "        print('My Last name is',self.lname)\n",
    "p=Parent('Waseem','Qureshi')\n",
    "p.printname()\n",
    "\n",
    "class Child(Parent):\n",
    "    def __init__(self,fn,ln):\n",
    "        super().__init__(fn,ln)   \n",
    "c=Child('Faisal','Qureshi')\n",
    "c.printname()"
   ]
  },
  {
   "cell_type": "code",
   "execution_count": 7,
   "metadata": {},
   "outputs": [
    {
     "name": "stdout",
     "output_type": "stream",
     "text": [
      "My First name is Faisal\n",
      "My Last name is Qureshi\n",
      "25\n"
     ]
    }
   ],
   "source": [
    "class Parent:\n",
    "    def __init__(self,fn,ln):\n",
    "        self.fname=fn\n",
    "        self.lname=ln\n",
    "    def printname(self):\n",
    "        print('My First name is',self.fname)\n",
    "        print('My Last name is',self.lname)\n",
    "#p=Parent('Waseem','Qureshi')\n",
    "#p.printname()\n",
    "\n",
    "class Child(Parent):\n",
    "    def __init__(self,fn,ln,age):\n",
    "        super().__init__(fn,ln)\n",
    "        self.age=age\n",
    "c=Child('Faisal','Qureshi',25)\n",
    "c.printname()\n",
    "print(c.age)"
   ]
  },
  {
   "cell_type": "code",
   "execution_count": 9,
   "metadata": {},
   "outputs": [
    {
     "name": "stdout",
     "output_type": "stream",
     "text": [
      "Faisal Qureshi 25\n"
     ]
    }
   ],
   "source": [
    "class Parent:\n",
    "    def __init__(self,fname,lname):\n",
    "        self.fname=fname\n",
    "        self.lname=lname\n",
    "    def printname(self):\n",
    "        print('My First name is',self.fname)\n",
    "        print('My Last name is',self.lname)\n",
    "\n",
    "\n",
    "class Child(Parent):\n",
    "    def __init__(self,fname,lname,age):\n",
    "        super().__init__(fname,lname)\n",
    "        self.age=age\n",
    "    def func(self):\n",
    "        print(self.fname,self.lname,self.age)\n",
    "c=Child('Faisal','Qureshi',25)\n",
    "c.func()\n"
   ]
  },
  {
   "cell_type": "code",
   "execution_count": 6,
   "metadata": {},
   "outputs": [
    {
     "name": "stdout",
     "output_type": "stream",
     "text": [
      "I love gardening\n",
      "I enjoy cooking\n",
      "i love cricket\n"
     ]
    }
   ],
   "source": [
    "class father:\n",
    "    def gardening(self):\n",
    "        print('I love gardening')\n",
    "class mother:\n",
    "    def cooking(self):\n",
    "        print('I enjoy cooking')\n",
    "class child(father,mother):\n",
    "    def sport(self):\n",
    "        print('i love cricket')\n",
    "c=child()\n",
    "c.gardening()\n",
    "c.cooking()\n",
    "c.sport()\n",
    "    \n"
   ]
  },
  {
   "cell_type": "code",
   "execution_count": null,
   "metadata": {},
   "outputs": [],
   "source": []
  }
 ],
 "metadata": {
  "kernelspec": {
   "display_name": "Python 3",
   "language": "python",
   "name": "python3"
  },
  "language_info": {
   "codemirror_mode": {
    "name": "ipython",
    "version": 3
   },
   "file_extension": ".py",
   "mimetype": "text/x-python",
   "name": "python",
   "nbconvert_exporter": "python",
   "pygments_lexer": "ipython3",
   "version": "3.8.8"
  }
 },
 "nbformat": 4,
 "nbformat_minor": 4
}
