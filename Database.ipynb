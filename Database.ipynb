{
 "cells": [
  {
   "cell_type": "code",
   "execution_count": 1,
   "metadata": {},
   "outputs": [],
   "source": [
    "import sqlite3 \n",
    "from sqlite3 import Error\n"
   ]
  },
  {
   "cell_type": "code",
   "execution_count": 2,
   "metadata": {},
   "outputs": [],
   "source": [
    "def create_connection(db_file):\n",
    "    conn=None\n",
    "    try:\n",
    "        conn=sqlite3.connect(db_file)\n",
    "        print('Connection is connect')\n",
    "        return conn\n",
    "    except Error as e:\n",
    "        print(e)\n",
    "        "
   ]
  },
  {
   "cell_type": "code",
   "execution_count": 3,
   "metadata": {},
   "outputs": [],
   "source": [
    "def close_connection(conn):\n",
    "    if(conn):\n",
    "        conn.close()\n",
    "        print('The sqlite connection is close')"
   ]
  },
  {
   "cell_type": "code",
   "execution_count": 4,
   "metadata": {},
   "outputs": [],
   "source": [
    "def create_table_in_db(conn,create_table_sql):\n",
    "    try:\n",
    "        c=conn.cursor()\n",
    "        c.execute(create_table_sql)\n",
    "    except Error as e:\n",
    "        print(e)\n",
    "        "
   ]
  },
  {
   "cell_type": "code",
   "execution_count": 5,
   "metadata": {},
   "outputs": [],
   "source": [
    "def create_table():\n",
    "    database=r'/home/faisal/Desktop/database1.db'\n",
    "    sql_create_projects_table=\"\"\"CREATE TABLE IF NOT EXISTS STUDENT(\n",
    "    id integer PRIMARY KEY,\n",
    "    name text,\n",
    "    gpa integer,\n",
    "    admission_date text\n",
    "    )\"\"\"\n",
    "    conn=create_connection(database)\n",
    "    if conn is not None:\n",
    "        create_table_in_db(conn,sql_create_projects_table)\n",
    "    else:\n",
    "        print('Can not create database connection')\n",
    "    close_connection(conn)\n",
    "    \n",
    "    "
   ]
  },
  {
   "cell_type": "code",
   "execution_count": 6,
   "metadata": {},
   "outputs": [
    {
     "name": "stdout",
     "output_type": "stream",
     "text": [
      "Connection is connect\n",
      "The sqlite connection is close\n"
     ]
    }
   ],
   "source": [
    "create_table()"
   ]
  },
  {
   "cell_type": "code",
   "execution_count": 7,
   "metadata": {},
   "outputs": [],
   "source": [
    "def add_student(conn,student):\n",
    "    \n",
    "    sql=\"\"\"INSERT INTO STUDENT(name,gpa, admission_date )\n",
    "    VALUES(?,?,?)\n",
    "    \"\"\"\n",
    "    cur=conn.cursor()\n",
    "    cur.execute(sql,student)\n",
    "    return cur.lastrowid\n"
   ]
  },
  {
   "cell_type": "code",
   "execution_count": 10,
   "metadata": {},
   "outputs": [
    {
     "name": "stdout",
     "output_type": "stream",
     "text": [
      "Connection is connect\n",
      "The student id is 3\n",
      "The sqlite connection is close\n"
     ]
    }
   ],
   "source": [
    "database=r'/home/faisal/Desktop/database1.db'\n",
    "conn=create_connection(database)\n",
    "with conn:\n",
    "    std=['Zain' ,3.58 ,'10/01/2017']\n",
    "    std_id=add_student(conn,std)\n",
    "print('The student id is',std_id)\n",
    "close_connection(conn)"
   ]
  },
  {
   "cell_type": "code",
   "execution_count": 17,
   "metadata": {},
   "outputs": [],
   "source": [
    "import csv"
   ]
  },
  {
   "cell_type": "code",
   "execution_count": 21,
   "metadata": {},
   "outputs": [],
   "source": [
    "file='/home/faisal/Desktop/score.csv'"
   ]
  },
  {
   "cell_type": "code",
   "execution_count": 22,
   "metadata": {},
   "outputs": [],
   "source": [
    "data=[('Omer',50),('Ahmed',70),('Zain',80)]\n"
   ]
  },
  {
   "cell_type": "code",
   "execution_count": 20,
   "metadata": {},
   "outputs": [],
   "source": [
    "writer=csv.writer(open(file,'w',newline=''))\n",
    "for value in data:\n",
    "    writer.writerow(value)"
   ]
  },
  {
   "cell_type": "code",
   "execution_count": 24,
   "metadata": {},
   "outputs": [],
   "source": [
    "reader=csv.reader(open(file,'r'))\n",
    "for value in reader:\n",
    "    print(row)"
   ]
  },
  {
   "cell_type": "code",
   "execution_count": null,
   "metadata": {},
   "outputs": [],
   "source": []
  }
 ],
 "metadata": {
  "kernelspec": {
   "display_name": "Python 3",
   "language": "python",
   "name": "python3"
  },
  "language_info": {
   "codemirror_mode": {
    "name": "ipython",
    "version": 3
   },
   "file_extension": ".py",
   "mimetype": "text/x-python",
   "name": "python",
   "nbconvert_exporter": "python",
   "pygments_lexer": "ipython3",
   "version": "3.8.8"
  }
 },
 "nbformat": 4,
 "nbformat_minor": 4
}
