{
 "cells": [
  {
   "cell_type": "code",
   "execution_count": 7,
   "metadata": {},
   "outputs": [
    {
     "name": "stdout",
     "output_type": "stream",
     "text": [
      "enter number4\n",
      "enter number0\n",
      "You can not divide by zero\n"
     ]
    }
   ],
   "source": [
    "#Exceptional Handling\n",
    "a=int(input('enter number'))\n",
    "b=int(input('enter number'))\n",
    "try:\n",
    "    c=a/b\n",
    "    print(c)\n",
    "except ZeroDivisionError:\n",
    "    print(\"You can not divide by zero\")\n"
   ]
  },
  {
   "cell_type": "code",
   "execution_count": 6,
   "metadata": {},
   "outputs": [
    {
     "name": "stdout",
     "output_type": "stream",
     "text": [
      "This key does not exist\n"
     ]
    }
   ],
   "source": [
    "#Exceptional Handling Using Dictionary\n",
    "dict={\"one\":1,\"two\":2,\"three\":3}\n",
    "try:\n",
    "    value=dict[\"four\"]\n",
    "except KeyError:\n",
    "    print('This key does not exist')"
   ]
  },
  {
   "cell_type": "code",
   "execution_count": 3,
   "metadata": {},
   "outputs": [
    {
     "name": "stdout",
     "output_type": "stream",
     "text": [
      "This index does not exist\n"
     ]
    }
   ],
   "source": [
    "#Exceptional Handling using List\n",
    "list=[1,2,3,4,5]\n",
    "try:\n",
    "    list[5]\n",
    "except IndexError:\n",
    "    print('This index does not exist')\n",
    "   "
   ]
  },
  {
   "cell_type": "code",
   "execution_count": 42,
   "metadata": {},
   "outputs": [
    {
     "name": "stdout",
     "output_type": "stream",
     "text": [
      "This key does not exist\n",
      "Program Executed\n"
     ]
    }
   ],
   "source": [
    "dict={\"one\":1,\"two\":2,\"three\":3}\n",
    "try:\n",
    "    value=dict[\"four\"]\n",
    "except KeyError:\n",
    "    print('This key does not exist')\n",
    "finally:\n",
    "    print(\"Program Executed\")\n",
    "    \n"
   ]
  },
  {
   "cell_type": "code",
   "execution_count": 41,
   "metadata": {},
   "outputs": [
    {
     "name": "stdout",
     "output_type": "stream",
     "text": [
      "No error occur\n"
     ]
    }
   ],
   "source": [
    "dict={\"a\":1,\"b\":2,\"c\":3}\n",
    "try:\n",
    "    value=dict[\"a\"]\n",
    "except KeyError:\n",
    "    print('This key does not exist')\n",
    "else:\n",
    "    print(\"No error occur\")"
   ]
  },
  {
   "cell_type": "code",
   "execution_count": 9,
   "metadata": {
    "scrolled": true
   },
   "outputs": [
    {
     "name": "stdout",
     "output_type": "stream",
     "text": [
      "The type ofyear is invalid\n"
     ]
    },
    {
     "data": {
      "text/plain": [
       "False"
      ]
     },
     "execution_count": 9,
     "metadata": {},
     "output_type": "execute_result"
    }
   ],
   "source": [
    "def check_type(year):\n",
    "    try:\n",
    "        assert type(year)==int\n",
    "    except AssertionError:\n",
    "        print('The type ofyear is invalid')\n",
    "        return False\n",
    "    return True\n",
    "    \n",
    "check_type(2010.12)     \n",
    "\n",
    "   \n",
    "  \n",
    "\n"
   ]
  },
  {
   "cell_type": "code",
   "execution_count": null,
   "metadata": {},
   "outputs": [],
   "source": []
  }
 ],
 "metadata": {
  "kernelspec": {
   "display_name": "Python 3",
   "language": "python",
   "name": "python3"
  },
  "language_info": {
   "codemirror_mode": {
    "name": "ipython",
    "version": 3
   },
   "file_extension": ".py",
   "mimetype": "text/x-python",
   "name": "python",
   "nbconvert_exporter": "python",
   "pygments_lexer": "ipython3",
   "version": "3.8.8"
  }
 },
 "nbformat": 4,
 "nbformat_minor": 4
}
