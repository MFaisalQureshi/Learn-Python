{
 "cells": [
  {
   "cell_type": "code",
   "execution_count": null,
   "id": "unable-reverse",
   "metadata": {},
   "outputs": [],
   "source": [
    "def checknum(x):\n",
    "    if(x%2==0):\n",
    "        print('even')\n",
    "    else:\n",
    "        print('odd')\n",
    "checknum(4)\n",
    "checknum(3)"
   ]
  },
  {
   "cell_type": "code",
   "execution_count": null,
   "id": "three-tennis",
   "metadata": {},
   "outputs": [],
   "source": [
    "def add():\n",
    "    a=int(input('Enter number 1: '))\n",
    "    b=int(input('Enter number 2: '))\n",
    "    return a+b\n",
    "add()\n"
   ]
  },
  {
   "cell_type": "code",
   "execution_count": null,
   "id": "judicial-secondary",
   "metadata": {},
   "outputs": [],
   "source": [
    "def _square():\n",
    "    a=int(input('Enter number:'))\n",
    "    return a*a\n",
    "_square()\n",
    "    "
   ]
  },
  {
   "cell_type": "code",
   "execution_count": null,
   "id": "photographic-northern",
   "metadata": {},
   "outputs": [],
   "source": [
    "def greet(name,time):\n",
    "    print(f' Good{time} {name} What is going on')\n",
    "greet('Ali',' Morning')    "
   ]
  },
  {
   "cell_type": "code",
   "execution_count": 1,
   "id": "solved-plane",
   "metadata": {},
   "outputs": [
    {
     "name": "stdout",
     "output_type": "stream",
     "text": [
      "enter your name:ali\n",
      "enter time:morning\n",
      " Good morning ali What is going on\n"
     ]
    }
   ],
   "source": [
    "def greet(name,time):\n",
    "    print(f' Good {time} {name} What is going on')\n",
    "name=input('enter your name:')\n",
    "time=input('enter time:')\n",
    "greet(name,time)   "
   ]
  },
  {
   "cell_type": "code",
   "execution_count": 2,
   "id": "loving-burner",
   "metadata": {},
   "outputs": [
    {
     "name": "stdout",
     "output_type": "stream",
     "text": [
      "200\n"
     ]
    }
   ],
   "source": [
    "def variable():\n",
    "    firstvar=10\n",
    "    secvariable=20\n",
    "    return firstvar*secvariable\n",
    "print(variable())"
   ]
  },
  {
   "cell_type": "code",
   "execution_count": 3,
   "id": "absent-actor",
   "metadata": {},
   "outputs": [],
   "source": [
    "#Empty Function also known as Stub\n",
    "def empty_function():\n",
    "    pass"
   ]
  },
  {
   "cell_type": "code",
   "execution_count": null,
   "id": "gross-technical",
   "metadata": {},
   "outputs": [],
   "source": [
    "def add(a,b):\n",
    "    return a+b\n",
    "add(1,2)"
   ]
  },
  {
   "cell_type": "code",
   "execution_count": null,
   "id": "infrared-startup",
   "metadata": {},
   "outputs": [],
   "source": [
    "#Key Arguemnet Function\n",
    "#default arguemnet keyword\n",
    "def add(a=1,b=4):\n",
    "    return a+b\n",
    "add()"
   ]
  },
  {
   "cell_type": "code",
   "execution_count": null,
   "id": "adolescent-stylus",
   "metadata": {},
   "outputs": [],
   "source": [
    "def add(a=1,b=4):\n",
    "    return a+b\n",
    "add(a=4,b=4)"
   ]
  },
  {
   "cell_type": "code",
   "execution_count": 8,
   "id": "played-aerospace",
   "metadata": {},
   "outputs": [
    {
     "data": {
      "text/plain": [
       "6"
      ]
     },
     "execution_count": 8,
     "metadata": {},
     "output_type": "execute_result"
    }
   ],
   "source": [
    "#Mixed Function\n",
    "def add(a,b,c):\n",
    "    return a+b+c\n",
    "add(2,2,2)"
   ]
  },
  {
   "cell_type": "code",
   "execution_count": 10,
   "id": "fiscal-alliance",
   "metadata": {},
   "outputs": [
    {
     "data": {
      "text/plain": [
       "[1, 2, 3, 4, 5, 6]"
      ]
     },
     "execution_count": 10,
     "metadata": {},
     "output_type": "execute_result"
    }
   ],
   "source": [
    "_list=[1,2,3,4,5]\n",
    "def function1(_list):\n",
    "    \n",
    "    _list.append(6)\n",
    "    return _list\n",
    "function1(_list)"
   ]
  },
  {
   "cell_type": "code",
   "execution_count": 11,
   "id": "known-measurement",
   "metadata": {},
   "outputs": [
    {
     "name": "stdout",
     "output_type": "stream",
     "text": [
      "I love Pakistan\n"
     ]
    }
   ],
   "source": [
    "def name(country=\"Pakistan\"):\n",
    "    print('I love '+ country)\n",
    "name()"
   ]
  },
  {
   "cell_type": "code",
   "execution_count": 15,
   "id": "three-timeline",
   "metadata": {},
   "outputs": [
    {
     "name": "stdout",
     "output_type": "stream",
     "text": [
      "The name of student is:moiz\n"
     ]
    }
   ],
   "source": [
    "def student(*name):\n",
    "    print('The name of student is:'+name[2])\n",
    "student('ali','zain','moiz')\n",
    "\n",
    "\n"
   ]
  },
  {
   "cell_type": "code",
   "execution_count": 2,
   "id": "intelligent-sleeve",
   "metadata": {},
   "outputs": [
    {
     "name": "stdout",
     "output_type": "stream",
     "text": [
      "SUV\n",
      "Sedan\n",
      "HatchBack\n"
     ]
    }
   ],
   "source": [
    "cars=['SUV','Sedan','HatchBack']\n",
    "def vehicle(fourwheel):\n",
    "    for x in fourwheel:\n",
    "        print(x)\n",
    "vehicle(cars)"
   ]
  },
  {
   "cell_type": "code",
   "execution_count": 18,
   "id": "gothic-death",
   "metadata": {},
   "outputs": [
    {
     "data": {
      "text/plain": [
       "{'c1': '1', 'c2': '2', 'c3': '3'}"
      ]
     },
     "execution_count": 18,
     "metadata": {},
     "output_type": "execute_result"
    }
   ],
   "source": [
    "dict={'c1':'1','c2':'2','c3':'3'}\n",
    "def myfunc(dict):\n",
    "    return dict\n",
    "myfunc(dict)"
   ]
  },
  {
   "cell_type": "code",
   "execution_count": 6,
   "id": "improved-stick",
   "metadata": {},
   "outputs": [
    {
     "name": "stdout",
     "output_type": "stream",
     "text": [
      "Zain Total expense is: 1200\n",
      "Ali Total expense is: 600\n"
     ]
    }
   ],
   "source": [
    "def cal(exp):\n",
    "    total=0\n",
    "    for item in exp:\n",
    "        total=total+item\n",
    "    return total\n",
    "zain_exp_list=[200,400,600]\n",
    "ali_exp_list=[100,200,300]\n",
    "zaintotal=cal(zain_exp_list)\n",
    "alitotal=cal(ali_exp_list)\n",
    "print('Zain Total expense is:',zaintotal)\n",
    "print('Ali Total expense is:',alitotal)\n",
    "\n"
   ]
  },
  {
   "cell_type": "code",
   "execution_count": null,
   "id": "personalized-tactics",
   "metadata": {},
   "outputs": [],
   "source": [
    "\n",
    "def add():\n",
    "    a=int(input('Enter Number 1:'))\n",
    "    b=int(input('Enter Number 2:'))\n",
    "    c=a+b\n",
    "    return c\n",
    "sum=add()\n",
    "print('Sum of numbers is:',sum)\n",
    "\n",
    "def sub():\n",
    "    a=int(input('Enter Number 1:'))\n",
    "    b=int(input('Enter Number 2:'))\n",
    "    c=a-b\n",
    "    return c\n",
    "minus=sub()\n",
    "print('Subtraction of numbers is:',minus)\n",
    "\n",
    "\n",
    "def mul():\n",
    "    a=int(input('Enter Number 1:'))\n",
    "    b=int(input('Enter Number 2:'))\n",
    "    c=a*b\n",
    "    return c\n",
    "prod=mul()\n",
    "print('Multiplication of numbers is:',prod)\n",
    "\n",
    "def div():\n",
    "    a=int(input('Enter Number 1:'))\n",
    "    b=int(input('Enter Number 2:'))\n",
    "    c=a/b\n",
    "    return c\n",
    "ratio=div()\n",
    "print('Divison of numbers is:',ratio) \n",
    "\n",
    "def power():\n",
    "    a=int(input('Enter Base:'))\n",
    "    b=int(input('Enter Power'))\n",
    "    c=a**b\n",
    "    return c\n",
    "exp=power()\n",
    "print('Power of number is:',exp) \n",
    "\n",
    "def squareroot():\n",
    "    a=int(input('Enter Number:'))\n",
    "    c=squareroot(a)\n",
    "    return c\n",
    "sqrt=squareroot()\n",
    "print('Squaer Root of number is:',sqrt) \n",
    "\n",
    "def remainder():\n",
    "    a=int(input('Enter Number:'))\n",
    "    b=int(input('Enter Number'))\n",
    "    c=a%b\n",
    "    return c\n",
    "remain=remainder()\n",
    "print('Remainder number is:',remain)\n"
   ]
  },
  {
   "cell_type": "code",
   "execution_count": null,
   "id": "extensive-startup",
   "metadata": {},
   "outputs": [],
   "source": []
  }
 ],
 "metadata": {
  "kernelspec": {
   "display_name": "Python 3",
   "language": "python",
   "name": "python3"
  },
  "language_info": {
   "codemirror_mode": {
    "name": "ipython",
    "version": 3
   },
   "file_extension": ".py",
   "mimetype": "text/x-python",
   "name": "python",
   "nbconvert_exporter": "python",
   "pygments_lexer": "ipython3",
   "version": "3.8.8"
  }
 },
 "nbformat": 4,
 "nbformat_minor": 5
}
