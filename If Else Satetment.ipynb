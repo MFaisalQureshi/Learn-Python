{
 "cells": [
  {
   "cell_type": "code",
   "execution_count": 3,
   "metadata": {},
   "outputs": [
    {
     "name": "stdout",
     "output_type": "stream",
     "text": [
      "Enter your pin123\n",
      "Please! Enter your correct pin\n"
     ]
    }
   ],
   "source": [
    "pin=int(input('Enter your pin'))\n",
    "pinsave=1234\n",
    "if pin==pinsave:\n",
    "    print('Welcome')\n",
    "else:\n",
    "    print('Please! Enter your correct pin')\n"
   ]
  },
  {
   "cell_type": "code",
   "execution_count": null,
   "metadata": {},
   "outputs": [],
   "source": [
    "no=int(input('Enter Input:'))\n",
    "if no%2==0:\n",
    "    print('Number you have enter is an even number')\n",
    "else:\n",
    "    print('Number you have enter is not an even number')"
   ]
  },
  {
   "cell_type": "code",
   "execution_count": null,
   "metadata": {},
   "outputs": [],
   "source": [
    "leap_year=int(input('Enter yaer'))\n",
    "if leap_year%4==0:\n",
    "    print('This is a leap year')\n",
    "else:\n",
    "    print('This is not a leap year')"
   ]
  },
  {
   "cell_type": "code",
   "execution_count": 13,
   "metadata": {
    "collapsed": true
   },
   "outputs": [
    {
     "name": "stdout",
     "output_type": "stream",
     "text": [
      "Enter your age:5\n",
      "you are not applicable for addmission\n"
     ]
    }
   ],
   "source": [
    "age=int(input('Enter your age:'))\n",
    "if age<=5:\n",
    "    print('you are not applicable for addmission')\n",
    "elif age>5:\n",
    "    print('you are applicalbe for addmission')\n",
    "else:\n",
    "    print('you are not applicable for addmission')"
   ]
  },
  {
   "cell_type": "code",
   "execution_count": 1,
   "metadata": {},
   "outputs": [
    {
     "name": "stdout",
     "output_type": "stream",
     "text": [
      "Enter your favourite foodbiryani\n",
      "you belongs to others city\n"
     ]
    }
   ],
   "source": [
    "food=input('Enter your favourite food')\n",
    "if food=='Biryani':\n",
    "    print('you may belongs to Karachi')\n",
    "elif food=='Pai':\n",
    "    print('you may belongs to Lahore')\n",
    "elif food=='Saggi':\n",
    "    print('you may belongs to Quetta')\n",
    "else:\n",
    "    print('you belongs to others city')\n"
   ]
  },
  {
   "cell_type": "code",
   "execution_count": 1,
   "metadata": {},
   "outputs": [
    {
     "name": "stdout",
     "output_type": "stream",
     "text": [
      "True\n"
     ]
    }
   ],
   "source": [
    "if __name__==\"__main__\":\n",
    "    print(True)\n",
    "else:\n",
    "    print(False)"
   ]
  },
  {
   "cell_type": "code",
   "execution_count": null,
   "metadata": {},
   "outputs": [],
   "source": []
  }
 ],
 "metadata": {
  "kernelspec": {
   "display_name": "Python 3",
   "language": "python",
   "name": "python3"
  },
  "language_info": {
   "codemirror_mode": {
    "name": "ipython",
    "version": 3
   },
   "file_extension": ".py",
   "mimetype": "text/x-python",
   "name": "python",
   "nbconvert_exporter": "python",
   "pygments_lexer": "ipython3",
   "version": "3.8.8"
  }
 },
 "nbformat": 4,
 "nbformat_minor": 4
}
